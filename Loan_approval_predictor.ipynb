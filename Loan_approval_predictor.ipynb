{
 "cells": [
  {
   "cell_type": "code",
   "execution_count": 13,
   "id": "c0e1ee8e",
   "metadata": {},
   "outputs": [
    {
     "name": "stdout",
     "output_type": "stream",
     "text": [
      "Collecting scikit-learn\n",
      "  Downloading scikit_learn-1.2.2-cp311-cp311-win_amd64.whl (8.3 MB)\n",
      "                                              0.0/8.3 MB ? eta -:--:--\n",
      "                                              0.0/8.3 MB 660.6 kB/s eta 0:00:13\n",
      "                                              0.0/8.3 MB 660.6 kB/s eta 0:00:13\n",
      "                                              0.0/8.3 MB 245.8 kB/s eta 0:00:34\n",
      "                                              0.1/8.3 MB 476.3 kB/s eta 0:00:18\n",
      "                                              0.1/8.3 MB 544.7 kB/s eta 0:00:15\n",
      "                                              0.2/8.3 MB 577.4 kB/s eta 0:00:15\n",
      "     -                                        0.3/8.3 MB 811.7 kB/s eta 0:00:10\n",
      "     -                                        0.3/8.3 MB 811.7 kB/s eta 0:00:10\n",
      "     --                                       0.4/8.3 MB 1.0 MB/s eta 0:00:08\n",
      "     --                                       0.6/8.3 MB 1.3 MB/s eta 0:00:06\n",
      "     ---                                      0.7/8.3 MB 1.3 MB/s eta 0:00:06\n",
      "     ----                                     1.0/8.3 MB 1.8 MB/s eta 0:00:04\n",
      "     ------                                   1.2/8.3 MB 2.1 MB/s eta 0:00:04\n",
      "     -------                                  1.6/8.3 MB 2.4 MB/s eta 0:00:03\n",
      "     ----------                               2.1/8.3 MB 3.0 MB/s eta 0:00:03\n",
      "     -----------                              2.3/8.3 MB 3.2 MB/s eta 0:00:02\n",
      "     -------------                            2.9/8.3 MB 3.7 MB/s eta 0:00:02\n",
      "     -------------                            2.9/8.3 MB 3.6 MB/s eta 0:00:02\n",
      "     -------------                            2.9/8.3 MB 3.6 MB/s eta 0:00:02\n",
      "     -------------                            2.9/8.3 MB 3.6 MB/s eta 0:00:02\n",
      "     ------------------------                 5.0/8.3 MB 5.2 MB/s eta 0:00:01\n",
      "     ------------------------                 5.0/8.3 MB 5.2 MB/s eta 0:00:01\n",
      "     ------------------------                 5.0/8.3 MB 5.2 MB/s eta 0:00:01\n",
      "     -----------------------------            6.0/8.3 MB 5.4 MB/s eta 0:00:01\n",
      "     -----------------------------            6.0/8.3 MB 5.4 MB/s eta 0:00:01\n",
      "     -----------------------------            6.0/8.3 MB 5.4 MB/s eta 0:00:01\n",
      "     -----------------------------            6.0/8.3 MB 5.4 MB/s eta 0:00:01\n",
      "     --------------------------------         6.7/8.3 MB 5.2 MB/s eta 0:00:01\n",
      "     --------------------------------------   8.0/8.3 MB 6.0 MB/s eta 0:00:01\n",
      "     ---------------------------------------  8.3/8.3 MB 5.9 MB/s eta 0:00:01\n",
      "     ---------------------------------------  8.3/8.3 MB 5.9 MB/s eta 0:00:01\n",
      "     ---------------------------------------- 8.3/8.3 MB 5.7 MB/s eta 0:00:00\n",
      "Requirement already satisfied: numpy>=1.17.3 in c:\\users\\nmani\\appdata\\local\\programs\\python\\python311\\lib\\site-packages (from scikit-learn) (1.25.0)\n",
      "Collecting scipy>=1.3.2 (from scikit-learn)\n",
      "  Downloading scipy-1.11.0-cp311-cp311-win_amd64.whl (43.9 MB)\n",
      "                                              0.0/43.9 MB ? eta -:--:--\n",
      "                                              0.6/43.9 MB 12.9 MB/s eta 0:00:04\n",
      "     -                                        1.3/43.9 MB 13.8 MB/s eta 0:00:04\n",
      "     -                                        1.7/43.9 MB 12.3 MB/s eta 0:00:04\n",
      "     --                                       2.5/43.9 MB 13.1 MB/s eta 0:00:04\n",
      "     --                                       3.2/43.9 MB 13.7 MB/s eta 0:00:03\n",
      "     ---                                      3.6/43.9 MB 12.8 MB/s eta 0:00:04\n",
      "     ---                                      4.4/43.9 MB 13.3 MB/s eta 0:00:03\n",
      "     ----                                     4.9/43.9 MB 13.7 MB/s eta 0:00:03\n",
      "     -----                                    5.5/43.9 MB 13.1 MB/s eta 0:00:03\n",
      "     -----                                    6.3/43.9 MB 13.4 MB/s eta 0:00:03\n",
      "     ------                                   6.7/43.9 MB 13.0 MB/s eta 0:00:03\n",
      "     ------                                   7.5/43.9 MB 13.2 MB/s eta 0:00:03\n",
      "     -------                                  8.2/43.9 MB 13.5 MB/s eta 0:00:03\n",
      "     -------                                  8.6/43.9 MB 13.1 MB/s eta 0:00:03\n",
      "     --------                                 9.4/43.9 MB 13.3 MB/s eta 0:00:03\n",
      "     --------                                10.1/43.9 MB 13.4 MB/s eta 0:00:03\n",
      "     ---------                               10.6/43.9 MB 13.1 MB/s eta 0:00:03\n",
      "     ----------                              11.4/43.9 MB 13.4 MB/s eta 0:00:03\n",
      "     ----------                              11.9/43.9 MB 13.6 MB/s eta 0:00:03\n",
      "     -----------                             12.6/43.9 MB 13.4 MB/s eta 0:00:03\n",
      "     -----------                             13.4/43.9 MB 13.6 MB/s eta 0:00:03\n",
      "     ------------                            13.8/43.9 MB 13.6 MB/s eta 0:00:03\n",
      "     -------------                           14.7/43.9 MB 13.6 MB/s eta 0:00:03\n",
      "     -------------                           15.5/43.9 MB 14.2 MB/s eta 0:00:03\n",
      "     --------------                          15.9/43.9 MB 13.6 MB/s eta 0:00:03\n",
      "     --------------                          16.7/43.9 MB 13.9 MB/s eta 0:00:02\n",
      "     ---------------                         17.3/43.9 MB 13.9 MB/s eta 0:00:02\n",
      "     ---------------                         18.0/43.9 MB 13.9 MB/s eta 0:00:02\n",
      "     ----------------                        18.8/43.9 MB 14.6 MB/s eta 0:00:02\n",
      "     -----------------                       19.3/43.9 MB 14.2 MB/s eta 0:00:02\n",
      "     -----------------                       20.1/43.9 MB 14.2 MB/s eta 0:00:02\n",
      "     ------------------                      20.9/43.9 MB 14.6 MB/s eta 0:00:02\n",
      "     ------------------                      21.3/43.9 MB 14.2 MB/s eta 0:00:02\n",
      "     -------------------                     22.2/43.9 MB 14.5 MB/s eta 0:00:02\n",
      "     --------------------                    22.9/43.9 MB 14.6 MB/s eta 0:00:02\n",
      "     --------------------                    23.4/43.9 MB 14.2 MB/s eta 0:00:02\n",
      "     ---------------------                   24.3/43.9 MB 14.9 MB/s eta 0:00:02\n",
      "     ----------------------                  24.9/43.9 MB 14.6 MB/s eta 0:00:02\n",
      "     ----------------------                  25.6/43.9 MB 14.2 MB/s eta 0:00:02\n",
      "     -----------------------                 26.4/43.9 MB 14.9 MB/s eta 0:00:02\n",
      "     -----------------------                 26.9/43.9 MB 14.6 MB/s eta 0:00:02\n",
      "     ------------------------                27.7/43.9 MB 14.9 MB/s eta 0:00:02\n",
      "     -------------------------               28.6/43.9 MB 14.9 MB/s eta 0:00:02\n",
      "     -------------------------               29.1/43.9 MB 14.6 MB/s eta 0:00:02\n",
      "     --------------------------              29.9/43.9 MB 15.2 MB/s eta 0:00:01\n",
      "     ---------------------------             30.7/43.9 MB 15.2 MB/s eta 0:00:01\n",
      "     ---------------------------             31.2/43.9 MB 14.6 MB/s eta 0:00:01\n",
      "     ----------------------------            32.1/43.9 MB 15.2 MB/s eta 0:00:01\n",
      "     -----------------------------           32.7/43.9 MB 14.9 MB/s eta 0:00:01\n",
      "     -----------------------------           33.5/43.9 MB 15.2 MB/s eta 0:00:01\n",
      "     ------------------------------          34.4/43.9 MB 15.6 MB/s eta 0:00:01\n",
      "     ------------------------------          34.9/43.9 MB 14.9 MB/s eta 0:00:01\n",
      "     -------------------------------         35.7/43.9 MB 15.6 MB/s eta 0:00:01\n",
      "     --------------------------------        36.7/43.9 MB 15.6 MB/s eta 0:00:01\n",
      "     --------------------------------        37.1/43.9 MB 15.6 MB/s eta 0:00:01\n",
      "     ---------------------------------       38.0/43.9 MB 15.6 MB/s eta 0:00:01\n",
      "     ----------------------------------      38.7/43.9 MB 15.6 MB/s eta 0:00:01\n",
      "     ----------------------------------      39.4/43.9 MB 15.6 MB/s eta 0:00:01\n",
      "     -----------------------------------     40.3/43.9 MB 16.0 MB/s eta 0:00:01\n",
      "     ------------------------------------    40.8/43.9 MB 15.2 MB/s eta 0:00:01\n",
      "     -------------------------------------   41.7/43.9 MB 16.0 MB/s eta 0:00:01\n",
      "     -------------------------------------   42.5/43.9 MB 15.6 MB/s eta 0:00:01\n",
      "     --------------------------------------  43.2/43.9 MB 16.0 MB/s eta 0:00:01\n",
      "     --------------------------------------  43.9/43.9 MB 16.0 MB/s eta 0:00:01\n",
      "     --------------------------------------  43.9/43.9 MB 16.0 MB/s eta 0:00:01\n",
      "     --------------------------------------  43.9/43.9 MB 16.0 MB/s eta 0:00:01\n",
      "     --------------------------------------  43.9/43.9 MB 16.0 MB/s eta 0:00:01\n",
      "     --------------------------------------  43.9/43.9 MB 16.0 MB/s eta 0:00:01\n",
      "     --------------------------------------  43.9/43.9 MB 16.0 MB/s eta 0:00:01\n",
      "     --------------------------------------  43.9/43.9 MB 16.0 MB/s eta 0:00:01\n",
      "     --------------------------------------  43.9/43.9 MB 16.0 MB/s eta 0:00:01\n",
      "     --------------------------------------  43.9/43.9 MB 16.0 MB/s eta 0:00:01\n",
      "     --------------------------------------  43.9/43.9 MB 16.0 MB/s eta 0:00:01\n",
      "     --------------------------------------  43.9/43.9 MB 16.0 MB/s eta 0:00:01\n",
      "     --------------------------------------  43.9/43.9 MB 16.0 MB/s eta 0:00:01\n",
      "     --------------------------------------  43.9/43.9 MB 16.0 MB/s eta 0:00:01\n",
      "     --------------------------------------  43.9/43.9 MB 16.0 MB/s eta 0:00:01\n",
      "     ---------------------------------------- 43.9/43.9 MB 7.8 MB/s eta 0:00:00\n",
      "Collecting joblib>=1.1.1 (from scikit-learn)\n",
      "  Using cached joblib-1.2.0-py3-none-any.whl (297 kB)\n",
      "Collecting threadpoolctl>=2.0.0 (from scikit-learn)\n",
      "  Using cached threadpoolctl-3.1.0-py3-none-any.whl (14 kB)\n",
      "Installing collected packages: threadpoolctl, scipy, joblib, scikit-learn\n",
      "Successfully installed joblib-1.2.0 scikit-learn-1.2.2 scipy-1.11.0 threadpoolctl-3.1.0\n",
      "Note: you may need to restart the kernel to use updated packages.\n"
     ]
    }
   ],
   "source": [
    "pip install scikit-learn"
   ]
  },
  {
   "cell_type": "code",
   "execution_count": 37,
   "id": "d6cd21b7",
   "metadata": {},
   "outputs": [],
   "source": [
    "import pandas as pd"
   ]
  },
  {
   "cell_type": "code",
   "execution_count": 38,
   "id": "260159cb",
   "metadata": {},
   "outputs": [],
   "source": [
    "loan_test = pd.read_csv(r\"C:\\Users\\nmani\\OneDrive\\Desktop\\loan-test.csv\")\n",
    "loan_train = pd.read_csv(r\"C:\\Users\\nmani\\OneDrive\\Desktop\\loan-train.csv\")"
   ]
  },
  {
   "cell_type": "code",
   "execution_count": 39,
   "id": "30fd82dc",
   "metadata": {},
   "outputs": [
    {
     "data": {
      "text/html": [
       "<div>\n",
       "<style scoped>\n",
       "    .dataframe tbody tr th:only-of-type {\n",
       "        vertical-align: middle;\n",
       "    }\n",
       "\n",
       "    .dataframe tbody tr th {\n",
       "        vertical-align: top;\n",
       "    }\n",
       "\n",
       "    .dataframe thead th {\n",
       "        text-align: right;\n",
       "    }\n",
       "</style>\n",
       "<table border=\"1\" class=\"dataframe\">\n",
       "  <thead>\n",
       "    <tr style=\"text-align: right;\">\n",
       "      <th></th>\n",
       "      <th>Loan_ID</th>\n",
       "      <th>Gender</th>\n",
       "      <th>Married</th>\n",
       "      <th>Dependents</th>\n",
       "      <th>Education</th>\n",
       "      <th>Self_Employed</th>\n",
       "      <th>ApplicantIncome</th>\n",
       "      <th>CoapplicantIncome</th>\n",
       "      <th>LoanAmount</th>\n",
       "      <th>Loan_Amount_Term</th>\n",
       "      <th>Credit_History</th>\n",
       "      <th>Property_Area</th>\n",
       "      <th>Loan_Status</th>\n",
       "    </tr>\n",
       "  </thead>\n",
       "  <tbody>\n",
       "    <tr>\n",
       "      <th>0</th>\n",
       "      <td>LP001002</td>\n",
       "      <td>Male</td>\n",
       "      <td>No</td>\n",
       "      <td>0</td>\n",
       "      <td>Graduate</td>\n",
       "      <td>No</td>\n",
       "      <td>5849</td>\n",
       "      <td>0.0</td>\n",
       "      <td>NaN</td>\n",
       "      <td>360.0</td>\n",
       "      <td>1.0</td>\n",
       "      <td>Urban</td>\n",
       "      <td>Y</td>\n",
       "    </tr>\n",
       "    <tr>\n",
       "      <th>1</th>\n",
       "      <td>LP001003</td>\n",
       "      <td>Male</td>\n",
       "      <td>Yes</td>\n",
       "      <td>1</td>\n",
       "      <td>Graduate</td>\n",
       "      <td>No</td>\n",
       "      <td>4583</td>\n",
       "      <td>1508.0</td>\n",
       "      <td>128.0</td>\n",
       "      <td>360.0</td>\n",
       "      <td>1.0</td>\n",
       "      <td>Rural</td>\n",
       "      <td>N</td>\n",
       "    </tr>\n",
       "    <tr>\n",
       "      <th>2</th>\n",
       "      <td>LP001005</td>\n",
       "      <td>Male</td>\n",
       "      <td>Yes</td>\n",
       "      <td>0</td>\n",
       "      <td>Graduate</td>\n",
       "      <td>Yes</td>\n",
       "      <td>3000</td>\n",
       "      <td>0.0</td>\n",
       "      <td>66.0</td>\n",
       "      <td>360.0</td>\n",
       "      <td>1.0</td>\n",
       "      <td>Urban</td>\n",
       "      <td>Y</td>\n",
       "    </tr>\n",
       "    <tr>\n",
       "      <th>3</th>\n",
       "      <td>LP001006</td>\n",
       "      <td>Male</td>\n",
       "      <td>Yes</td>\n",
       "      <td>0</td>\n",
       "      <td>Not Graduate</td>\n",
       "      <td>No</td>\n",
       "      <td>2583</td>\n",
       "      <td>2358.0</td>\n",
       "      <td>120.0</td>\n",
       "      <td>360.0</td>\n",
       "      <td>1.0</td>\n",
       "      <td>Urban</td>\n",
       "      <td>Y</td>\n",
       "    </tr>\n",
       "    <tr>\n",
       "      <th>4</th>\n",
       "      <td>LP001008</td>\n",
       "      <td>Male</td>\n",
       "      <td>No</td>\n",
       "      <td>0</td>\n",
       "      <td>Graduate</td>\n",
       "      <td>No</td>\n",
       "      <td>6000</td>\n",
       "      <td>0.0</td>\n",
       "      <td>141.0</td>\n",
       "      <td>360.0</td>\n",
       "      <td>1.0</td>\n",
       "      <td>Urban</td>\n",
       "      <td>Y</td>\n",
       "    </tr>\n",
       "  </tbody>\n",
       "</table>\n",
       "</div>"
      ],
      "text/plain": [
       "    Loan_ID Gender Married Dependents     Education Self_Employed  \\\n",
       "0  LP001002   Male      No          0      Graduate            No   \n",
       "1  LP001003   Male     Yes          1      Graduate            No   \n",
       "2  LP001005   Male     Yes          0      Graduate           Yes   \n",
       "3  LP001006   Male     Yes          0  Not Graduate            No   \n",
       "4  LP001008   Male      No          0      Graduate            No   \n",
       "\n",
       "   ApplicantIncome  CoapplicantIncome  LoanAmount  Loan_Amount_Term  \\\n",
       "0             5849                0.0         NaN             360.0   \n",
       "1             4583             1508.0       128.0             360.0   \n",
       "2             3000                0.0        66.0             360.0   \n",
       "3             2583             2358.0       120.0             360.0   \n",
       "4             6000                0.0       141.0             360.0   \n",
       "\n",
       "   Credit_History Property_Area Loan_Status  \n",
       "0             1.0         Urban           Y  \n",
       "1             1.0         Rural           N  \n",
       "2             1.0         Urban           Y  \n",
       "3             1.0         Urban           Y  \n",
       "4             1.0         Urban           Y  "
      ]
     },
     "execution_count": 39,
     "metadata": {},
     "output_type": "execute_result"
    }
   ],
   "source": [
    "loan_train.head()"
   ]
  },
  {
   "cell_type": "markdown",
   "id": "97819878",
   "metadata": {},
   "source": [
    "Write up an analysis design for your project\n",
    "-What are you trying to build?\n",
    "    -- Loan Predictor, given information about a person we should automatically be able to decide if that person will be                approved for a loan (Yes/No)\n",
    "    \n",
    "--Include a literature review of relevant public work\n",
    "    --https://www.kaggle.com/datasets/vikasukani/loan-eligible-dataset\n",
    "    --https://www.kaggle.com/code/vikasukani/loan-eligibility-prediction-machine-learning\n",
    "    --https://towardsdatascience.com/predict-loan-eligibility-using-machine-learning-models-7a14ef904057\n",
    "    --https://www.technologyreview.com/2021/06/17/1026519/racial-bias-noisy-data-credit-scores-mortgage-loans-fairness-machine-learning/  <-- can predictors be unfair to certain groups\n",
    "    --https://www.wellsfargo.com/financial-education/credit-management/five-c/#:~:text=Lenders%20need%20to%20determine%20whether,income%20may%20all%20be%20considered.  <--how banks decide loans\n",
    "\n",
    "--What data will you leverage?\n",
    "    -- https://www.kaggle.com/datasets/vikasukani/loan-eligible-dataset\n",
    "    \n",
    "--Any assumptions you need to make with the data you have or risks to the project given what you have available?\n",
    "    -- how many null data entries, \n",
    "       how big is a the train data set would larger dataset be better?, \n",
    "       what are the distributions of the dataset (gender, marital_status,education)\n",
    "       how to prevent overfit and underfit\n",
    "       removing bias\n",
    "       credit score is not a predictor, no previous loans\n",
    "       \n",
    "--What modeling techniques might you leverage?\n",
    "    -- since we want to decide whether a person will be approved for a loan (yes/no) a classification model would work best.\n",
    "       Checking the variances between each predictor variable? confusion matrix\n",
    "       Check the distributions of predictors (how many males vs females etc)\n",
    "       Classification models:\n",
    "           Logistic Regression: \n",
    "           Linear Discriminate Analysis: Does each individual predictor follow a multivariate normal distribution?\n",
    "           Quadratic Discriminate Analysis: Each class has its own covariance matrix?\n",
    "           Naive Bayes: Good for independent predictor variables, introduces bias but reduces variance\n"
   ]
  },
  {
   "cell_type": "markdown",
   "id": "92ea9ad1",
   "metadata": {},
   "source": [
    "Column Variables Descriptions\n",
    "-Loan_ID\tUnique Loan ID\n",
    "-Gender\tMale/ Female\n",
    "-Married\tApplicant married (Y/N)\n",
    "-Dependents\tNumber of dependents\n",
    "-Education\tApplicant Education (Graduate/ Under Graduate)\n",
    "-Self_Employed\tSelf-employed (Y/N)\n",
    "-ApplicantIncome\tApplicant income\n",
    "-CoapplicantIncome\tCoapplicant income\n",
    "-LoanAmount\tLoan amount in thousands\n",
    "-Loan_Amount_Term\tTerm of a loan in months\n",
    "-Credit_History\tcredit history meets guidelines\n",
    "-Property_Area\tUrban/ Semi-Urban/ Rural\n",
    "-Loan_Status\tLoan approved (Y/N)"
   ]
  },
  {
   "cell_type": "code",
   "execution_count": 40,
   "id": "f0247594",
   "metadata": {},
   "outputs": [
    {
     "data": {
      "text/plain": [
       "Loan_ID               0\n",
       "Gender               13\n",
       "Married               3\n",
       "Dependents           15\n",
       "Education             0\n",
       "Self_Employed        32\n",
       "ApplicantIncome       0\n",
       "CoapplicantIncome     0\n",
       "LoanAmount           22\n",
       "Loan_Amount_Term     14\n",
       "Credit_History       50\n",
       "Property_Area         0\n",
       "Loan_Status           0\n",
       "dtype: int64"
      ]
     },
     "execution_count": 40,
     "metadata": {},
     "output_type": "execute_result"
    }
   ],
   "source": [
    "loan_train.isnull().sum()"
   ]
  },
  {
   "cell_type": "code",
   "execution_count": 41,
   "id": "742a22ca",
   "metadata": {},
   "outputs": [
    {
     "data": {
      "text/plain": [
       "Loan_ID               0\n",
       "Gender               11\n",
       "Married               0\n",
       "Dependents           10\n",
       "Education             0\n",
       "Self_Employed        23\n",
       "ApplicantIncome       0\n",
       "CoapplicantIncome     0\n",
       "LoanAmount            5\n",
       "Loan_Amount_Term      6\n",
       "Credit_History       29\n",
       "Property_Area         0\n",
       "dtype: int64"
      ]
     },
     "execution_count": 41,
     "metadata": {},
     "output_type": "execute_result"
    }
   ],
   "source": [
    "loan_test.isnull().sum()"
   ]
  },
  {
   "cell_type": "code",
   "execution_count": 42,
   "id": "d4009566",
   "metadata": {},
   "outputs": [
    {
     "data": {
      "text/plain": [
       "Loan_ID               object\n",
       "Gender                object\n",
       "Married               object\n",
       "Dependents            object\n",
       "Education             object\n",
       "Self_Employed         object\n",
       "ApplicantIncome        int64\n",
       "CoapplicantIncome    float64\n",
       "LoanAmount           float64\n",
       "Loan_Amount_Term     float64\n",
       "Credit_History       float64\n",
       "Property_Area         object\n",
       "Loan_Status           object\n",
       "dtype: object"
      ]
     },
     "execution_count": 42,
     "metadata": {},
     "output_type": "execute_result"
    }
   ],
   "source": [
    "loan_train.dtypes"
   ]
  },
  {
   "cell_type": "code",
   "execution_count": 43,
   "id": "03ab15de",
   "metadata": {},
   "outputs": [
    {
     "data": {
      "text/plain": [
       "(614, 13)"
      ]
     },
     "execution_count": 43,
     "metadata": {},
     "output_type": "execute_result"
    }
   ],
   "source": [
    "loan_train.shape"
   ]
  },
  {
   "cell_type": "markdown",
   "id": "1395cf36",
   "metadata": {},
   "source": [
    "What can I say about missing data? Missing because lack of information is it better to fillna with the means and modes\n",
    "\n",
    "\n",
    "How to treat missing data?\n",
    "-filling the data with means and modes (where applicable), first code the categorical data to yes:1 and no:0"
   ]
  },
  {
   "cell_type": "code",
   "execution_count": 44,
   "id": "53ad5ef3",
   "metadata": {},
   "outputs": [],
   "source": [
    "test = loan_test.copy()\n",
    "train = loan_train.copy()"
   ]
  },
  {
   "cell_type": "code",
   "execution_count": 45,
   "id": "95f96fa3",
   "metadata": {},
   "outputs": [
    {
     "data": {
      "text/html": [
       "<div>\n",
       "<style scoped>\n",
       "    .dataframe tbody tr th:only-of-type {\n",
       "        vertical-align: middle;\n",
       "    }\n",
       "\n",
       "    .dataframe tbody tr th {\n",
       "        vertical-align: top;\n",
       "    }\n",
       "\n",
       "    .dataframe thead th {\n",
       "        text-align: right;\n",
       "    }\n",
       "</style>\n",
       "<table border=\"1\" class=\"dataframe\">\n",
       "  <thead>\n",
       "    <tr style=\"text-align: right;\">\n",
       "      <th></th>\n",
       "      <th>Loan_ID</th>\n",
       "      <th>Gender</th>\n",
       "      <th>Married</th>\n",
       "      <th>Dependents</th>\n",
       "      <th>Education</th>\n",
       "      <th>Self_Employed</th>\n",
       "      <th>ApplicantIncome</th>\n",
       "      <th>CoapplicantIncome</th>\n",
       "      <th>LoanAmount</th>\n",
       "      <th>Loan_Amount_Term</th>\n",
       "      <th>Credit_History</th>\n",
       "      <th>Property_Area</th>\n",
       "    </tr>\n",
       "  </thead>\n",
       "  <tbody>\n",
       "    <tr>\n",
       "      <th>0</th>\n",
       "      <td>LP001015</td>\n",
       "      <td>Male</td>\n",
       "      <td>Yes</td>\n",
       "      <td>0</td>\n",
       "      <td>Graduate</td>\n",
       "      <td>No</td>\n",
       "      <td>5720</td>\n",
       "      <td>0</td>\n",
       "      <td>110.0</td>\n",
       "      <td>360.0</td>\n",
       "      <td>1.0</td>\n",
       "      <td>Urban</td>\n",
       "    </tr>\n",
       "    <tr>\n",
       "      <th>1</th>\n",
       "      <td>LP001022</td>\n",
       "      <td>Male</td>\n",
       "      <td>Yes</td>\n",
       "      <td>1</td>\n",
       "      <td>Graduate</td>\n",
       "      <td>No</td>\n",
       "      <td>3076</td>\n",
       "      <td>1500</td>\n",
       "      <td>126.0</td>\n",
       "      <td>360.0</td>\n",
       "      <td>1.0</td>\n",
       "      <td>Urban</td>\n",
       "    </tr>\n",
       "    <tr>\n",
       "      <th>2</th>\n",
       "      <td>LP001031</td>\n",
       "      <td>Male</td>\n",
       "      <td>Yes</td>\n",
       "      <td>2</td>\n",
       "      <td>Graduate</td>\n",
       "      <td>No</td>\n",
       "      <td>5000</td>\n",
       "      <td>1800</td>\n",
       "      <td>208.0</td>\n",
       "      <td>360.0</td>\n",
       "      <td>1.0</td>\n",
       "      <td>Urban</td>\n",
       "    </tr>\n",
       "    <tr>\n",
       "      <th>3</th>\n",
       "      <td>LP001035</td>\n",
       "      <td>Male</td>\n",
       "      <td>Yes</td>\n",
       "      <td>2</td>\n",
       "      <td>Graduate</td>\n",
       "      <td>No</td>\n",
       "      <td>2340</td>\n",
       "      <td>2546</td>\n",
       "      <td>100.0</td>\n",
       "      <td>360.0</td>\n",
       "      <td>NaN</td>\n",
       "      <td>Urban</td>\n",
       "    </tr>\n",
       "    <tr>\n",
       "      <th>4</th>\n",
       "      <td>LP001051</td>\n",
       "      <td>Male</td>\n",
       "      <td>No</td>\n",
       "      <td>0</td>\n",
       "      <td>Not Graduate</td>\n",
       "      <td>No</td>\n",
       "      <td>3276</td>\n",
       "      <td>0</td>\n",
       "      <td>78.0</td>\n",
       "      <td>360.0</td>\n",
       "      <td>1.0</td>\n",
       "      <td>Urban</td>\n",
       "    </tr>\n",
       "    <tr>\n",
       "      <th>...</th>\n",
       "      <td>...</td>\n",
       "      <td>...</td>\n",
       "      <td>...</td>\n",
       "      <td>...</td>\n",
       "      <td>...</td>\n",
       "      <td>...</td>\n",
       "      <td>...</td>\n",
       "      <td>...</td>\n",
       "      <td>...</td>\n",
       "      <td>...</td>\n",
       "      <td>...</td>\n",
       "      <td>...</td>\n",
       "    </tr>\n",
       "    <tr>\n",
       "      <th>362</th>\n",
       "      <td>LP002971</td>\n",
       "      <td>Male</td>\n",
       "      <td>Yes</td>\n",
       "      <td>3+</td>\n",
       "      <td>Not Graduate</td>\n",
       "      <td>Yes</td>\n",
       "      <td>4009</td>\n",
       "      <td>1777</td>\n",
       "      <td>113.0</td>\n",
       "      <td>360.0</td>\n",
       "      <td>1.0</td>\n",
       "      <td>Urban</td>\n",
       "    </tr>\n",
       "    <tr>\n",
       "      <th>363</th>\n",
       "      <td>LP002975</td>\n",
       "      <td>Male</td>\n",
       "      <td>Yes</td>\n",
       "      <td>0</td>\n",
       "      <td>Graduate</td>\n",
       "      <td>No</td>\n",
       "      <td>4158</td>\n",
       "      <td>709</td>\n",
       "      <td>115.0</td>\n",
       "      <td>360.0</td>\n",
       "      <td>1.0</td>\n",
       "      <td>Urban</td>\n",
       "    </tr>\n",
       "    <tr>\n",
       "      <th>364</th>\n",
       "      <td>LP002980</td>\n",
       "      <td>Male</td>\n",
       "      <td>No</td>\n",
       "      <td>0</td>\n",
       "      <td>Graduate</td>\n",
       "      <td>No</td>\n",
       "      <td>3250</td>\n",
       "      <td>1993</td>\n",
       "      <td>126.0</td>\n",
       "      <td>360.0</td>\n",
       "      <td>NaN</td>\n",
       "      <td>Semiurban</td>\n",
       "    </tr>\n",
       "    <tr>\n",
       "      <th>365</th>\n",
       "      <td>LP002986</td>\n",
       "      <td>Male</td>\n",
       "      <td>Yes</td>\n",
       "      <td>0</td>\n",
       "      <td>Graduate</td>\n",
       "      <td>No</td>\n",
       "      <td>5000</td>\n",
       "      <td>2393</td>\n",
       "      <td>158.0</td>\n",
       "      <td>360.0</td>\n",
       "      <td>1.0</td>\n",
       "      <td>Rural</td>\n",
       "    </tr>\n",
       "    <tr>\n",
       "      <th>366</th>\n",
       "      <td>LP002989</td>\n",
       "      <td>Male</td>\n",
       "      <td>No</td>\n",
       "      <td>0</td>\n",
       "      <td>Graduate</td>\n",
       "      <td>Yes</td>\n",
       "      <td>9200</td>\n",
       "      <td>0</td>\n",
       "      <td>98.0</td>\n",
       "      <td>180.0</td>\n",
       "      <td>1.0</td>\n",
       "      <td>Rural</td>\n",
       "    </tr>\n",
       "  </tbody>\n",
       "</table>\n",
       "<p>367 rows × 12 columns</p>\n",
       "</div>"
      ],
      "text/plain": [
       "      Loan_ID Gender Married Dependents     Education Self_Employed  \\\n",
       "0    LP001015   Male     Yes          0      Graduate            No   \n",
       "1    LP001022   Male     Yes          1      Graduate            No   \n",
       "2    LP001031   Male     Yes          2      Graduate            No   \n",
       "3    LP001035   Male     Yes          2      Graduate            No   \n",
       "4    LP001051   Male      No          0  Not Graduate            No   \n",
       "..        ...    ...     ...        ...           ...           ...   \n",
       "362  LP002971   Male     Yes         3+  Not Graduate           Yes   \n",
       "363  LP002975   Male     Yes          0      Graduate            No   \n",
       "364  LP002980   Male      No          0      Graduate            No   \n",
       "365  LP002986   Male     Yes          0      Graduate            No   \n",
       "366  LP002989   Male      No          0      Graduate           Yes   \n",
       "\n",
       "     ApplicantIncome  CoapplicantIncome  LoanAmount  Loan_Amount_Term  \\\n",
       "0               5720                  0       110.0             360.0   \n",
       "1               3076               1500       126.0             360.0   \n",
       "2               5000               1800       208.0             360.0   \n",
       "3               2340               2546       100.0             360.0   \n",
       "4               3276                  0        78.0             360.0   \n",
       "..               ...                ...         ...               ...   \n",
       "362             4009               1777       113.0             360.0   \n",
       "363             4158                709       115.0             360.0   \n",
       "364             3250               1993       126.0             360.0   \n",
       "365             5000               2393       158.0             360.0   \n",
       "366             9200                  0        98.0             180.0   \n",
       "\n",
       "     Credit_History Property_Area  \n",
       "0               1.0         Urban  \n",
       "1               1.0         Urban  \n",
       "2               1.0         Urban  \n",
       "3               NaN         Urban  \n",
       "4               1.0         Urban  \n",
       "..              ...           ...  \n",
       "362             1.0         Urban  \n",
       "363             1.0         Urban  \n",
       "364             NaN     Semiurban  \n",
       "365             1.0         Rural  \n",
       "366             1.0         Rural  \n",
       "\n",
       "[367 rows x 12 columns]"
      ]
     },
     "execution_count": 45,
     "metadata": {},
     "output_type": "execute_result"
    }
   ],
   "source": [
    "test # where is the loan status column"
   ]
  },
  {
   "cell_type": "code",
   "execution_count": 46,
   "id": "0f682f7b",
   "metadata": {},
   "outputs": [],
   "source": [
    "from sklearn.preprocessing import LabelEncoder\n",
    "features = ['Property_Area','Education', 'Dependents']\n",
    "le = LabelEncoder()\n",
    "for col in features:\n",
    "    train[col] = le.fit_transform(train[col])\n",
    "    test[col] = le.fit_transform(test[col])"
   ]
  },
  {
   "cell_type": "code",
   "execution_count": 47,
   "id": "c6b94967",
   "metadata": {},
   "outputs": [],
   "source": [
    "#Encoding Categorical Variables\n",
    "replacements = {'Yes':1, 'No':0, 'Y':1,'N':0,'Male':1,'Female':0,'Semiurban':1,'Urban':2,'Rural':3}\n",
    "\n",
    "train.Loan_Status = train.Loan_Status.replace(replacements)\n",
    "\n",
    "\n",
    "train.Gender = train.Gender.replace(replacements)\n",
    "test.Gender = test.Gender.replace(replacements)\n",
    "\n",
    "train.Married = train.Married.replace(replacements)\n",
    "test.Married = test.Married.replace(replacements)\n",
    "\n",
    "train.Self_Employed = train.Self_Employed.replace(replacements)\n",
    "test.Self_Employed = test.Self_Employed.replace(replacements)\n",
    "\n",
    "#does it make sense to convert Property_Area\n",
    "#train.Property_Area = train.Property_Area.replace(replacements)\n",
    "#test.Property_Area = test.Property_Area.replace(replacements)"
   ]
  },
  {
   "cell_type": "code",
   "execution_count": 48,
   "id": "ce8d59ca",
   "metadata": {},
   "outputs": [],
   "source": [
    "#Replacing nan and na values with mean and mode\n",
    "train['Gender'].fillna(train['Gender'].mode()[0],inplace=True)\n",
    "test['Gender'].fillna(test['Gender'].mode()[0],inplace=True)\n",
    "\n",
    "train['Married'].fillna(train['Married'].mode()[0],inplace=True)\n",
    "test['Married'].fillna(test['Married'].mode()[0],inplace=True)\n",
    "\n",
    "train['Self_Employed'].fillna(train['Self_Employed'].mode()[0],inplace=True)\n",
    "test['Self_Employed'].fillna(test['Self_Employed'].mode()[0],inplace=True)\n",
    "\n",
    "train['Dependents'].fillna(train['Dependents'].mode()[0],inplace=True)\n",
    "test['Dependents'].fillna(test['Dependents'].mode()[0],inplace=True)\n",
    "\n",
    "train['LoanAmount'].fillna(train['LoanAmount'].mean(),inplace=True)\n",
    "test['LoanAmount'].fillna(test['LoanAmount'].mean(),inplace=True)\n",
    "\n",
    "train['Loan_Amount_Term'].fillna(train['Loan_Amount_Term'].mean(),inplace=True)\n",
    "test['Loan_Amount_Term'].fillna(test['Loan_Amount_Term'].mean(),inplace=True)\n",
    "\n",
    "train['Credit_History'].fillna(train['Credit_History'].mean(),inplace=True)\n",
    "test['Credit_History'].fillna(test['Credit_History'].mean(),inplace=True)"
   ]
  },
  {
   "cell_type": "code",
   "execution_count": 49,
   "id": "ee98623b",
   "metadata": {},
   "outputs": [
    {
     "data": {
      "text/plain": [
       "Loan_Status\n",
       "1    422\n",
       "0    192\n",
       "Name: count, dtype: int64"
      ]
     },
     "execution_count": 49,
     "metadata": {},
     "output_type": "execute_result"
    }
   ],
   "source": [
    "train['Loan_Status'].value_counts()"
   ]
  },
  {
   "cell_type": "markdown",
   "id": "856e5dac",
   "metadata": {},
   "source": [
    "With the values of loan status being as is how does this affect our model? where we have more yes observations than no?"
   ]
  },
  {
   "cell_type": "code",
   "execution_count": 50,
   "id": "c8d41c61",
   "metadata": {},
   "outputs": [
    {
     "data": {
      "text/plain": [
       "<Axes: xlabel='Loan_Status'>"
      ]
     },
     "execution_count": 50,
     "metadata": {},
     "output_type": "execute_result"
    },
    {
     "data": {
      "image/png": "[encoded data removed]",
      "text/plain": [
       "<Figure size 640x480 with 1 Axes>"
      ]
     },
     "metadata": {},
     "output_type": "display_data"
    }
   ],
   "source": [
    "train['Loan_Status'].value_counts().plot.bar()"
   ]
  },
  {
   "cell_type": "code",
   "execution_count": 51,
   "id": "d88d8bf7",
   "metadata": {},
   "outputs": [
    {
     "data": {
      "text/html": [
       "<div>\n",
       "<style scoped>\n",
       "    .dataframe tbody tr th:only-of-type {\n",
       "        vertical-align: middle;\n",
       "    }\n",
       "\n",
       "    .dataframe tbody tr th {\n",
       "        vertical-align: top;\n",
       "    }\n",
       "\n",
       "    .dataframe thead th {\n",
       "        text-align: right;\n",
       "    }\n",
       "</style>\n",
       "<table border=\"1\" class=\"dataframe\">\n",
       "  <thead>\n",
       "    <tr style=\"text-align: right;\">\n",
       "      <th></th>\n",
       "      <th>Gender</th>\n",
       "      <th>Married</th>\n",
       "      <th>Dependents</th>\n",
       "      <th>Education</th>\n",
       "      <th>Self_Employed</th>\n",
       "      <th>ApplicantIncome</th>\n",
       "      <th>CoapplicantIncome</th>\n",
       "      <th>LoanAmount</th>\n",
       "      <th>Loan_Amount_Term</th>\n",
       "      <th>Credit_History</th>\n",
       "      <th>Property_Area</th>\n",
       "      <th>Loan_Status</th>\n",
       "    </tr>\n",
       "  </thead>\n",
       "  <tbody>\n",
       "    <tr>\n",
       "      <th>count</th>\n",
       "      <td>614.000000</td>\n",
       "      <td>614.000000</td>\n",
       "      <td>614.000000</td>\n",
       "      <td>614.000000</td>\n",
       "      <td>614.000000</td>\n",
       "      <td>614.000000</td>\n",
       "      <td>614.000000</td>\n",
       "      <td>614.000000</td>\n",
       "      <td>614.000000</td>\n",
       "      <td>614.000000</td>\n",
       "      <td>614.000000</td>\n",
       "      <td>614.000000</td>\n",
       "    </tr>\n",
       "    <tr>\n",
       "      <th>mean</th>\n",
       "      <td>0.817590</td>\n",
       "      <td>0.653094</td>\n",
       "      <td>0.842020</td>\n",
       "      <td>0.218241</td>\n",
       "      <td>0.133550</td>\n",
       "      <td>5403.459283</td>\n",
       "      <td>1621.245798</td>\n",
       "      <td>146.412162</td>\n",
       "      <td>342.000000</td>\n",
       "      <td>0.842199</td>\n",
       "      <td>1.037459</td>\n",
       "      <td>0.687296</td>\n",
       "    </tr>\n",
       "    <tr>\n",
       "      <th>std</th>\n",
       "      <td>0.386497</td>\n",
       "      <td>0.476373</td>\n",
       "      <td>1.120531</td>\n",
       "      <td>0.413389</td>\n",
       "      <td>0.340446</td>\n",
       "      <td>6109.041673</td>\n",
       "      <td>2926.248369</td>\n",
       "      <td>84.037468</td>\n",
       "      <td>64.372489</td>\n",
       "      <td>0.349681</td>\n",
       "      <td>0.787482</td>\n",
       "      <td>0.463973</td>\n",
       "    </tr>\n",
       "    <tr>\n",
       "      <th>min</th>\n",
       "      <td>0.000000</td>\n",
       "      <td>0.000000</td>\n",
       "      <td>0.000000</td>\n",
       "      <td>0.000000</td>\n",
       "      <td>0.000000</td>\n",
       "      <td>150.000000</td>\n",
       "      <td>0.000000</td>\n",
       "      <td>9.000000</td>\n",
       "      <td>12.000000</td>\n",
       "      <td>0.000000</td>\n",
       "      <td>0.000000</td>\n",
       "      <td>0.000000</td>\n",
       "    </tr>\n",
       "    <tr>\n",
       "      <th>25%</th>\n",
       "      <td>1.000000</td>\n",
       "      <td>0.000000</td>\n",
       "      <td>0.000000</td>\n",
       "      <td>0.000000</td>\n",
       "      <td>0.000000</td>\n",
       "      <td>2877.500000</td>\n",
       "      <td>0.000000</td>\n",
       "      <td>100.250000</td>\n",
       "      <td>360.000000</td>\n",
       "      <td>1.000000</td>\n",
       "      <td>0.000000</td>\n",
       "      <td>0.000000</td>\n",
       "    </tr>\n",
       "    <tr>\n",
       "      <th>50%</th>\n",
       "      <td>1.000000</td>\n",
       "      <td>1.000000</td>\n",
       "      <td>0.000000</td>\n",
       "      <td>0.000000</td>\n",
       "      <td>0.000000</td>\n",
       "      <td>3812.500000</td>\n",
       "      <td>1188.500000</td>\n",
       "      <td>129.000000</td>\n",
       "      <td>360.000000</td>\n",
       "      <td>1.000000</td>\n",
       "      <td>1.000000</td>\n",
       "      <td>1.000000</td>\n",
       "    </tr>\n",
       "    <tr>\n",
       "      <th>75%</th>\n",
       "      <td>1.000000</td>\n",
       "      <td>1.000000</td>\n",
       "      <td>2.000000</td>\n",
       "      <td>0.000000</td>\n",
       "      <td>0.000000</td>\n",
       "      <td>5795.000000</td>\n",
       "      <td>2297.250000</td>\n",
       "      <td>164.750000</td>\n",
       "      <td>360.000000</td>\n",
       "      <td>1.000000</td>\n",
       "      <td>2.000000</td>\n",
       "      <td>1.000000</td>\n",
       "    </tr>\n",
       "    <tr>\n",
       "      <th>max</th>\n",
       "      <td>1.000000</td>\n",
       "      <td>1.000000</td>\n",
       "      <td>4.000000</td>\n",
       "      <td>1.000000</td>\n",
       "      <td>1.000000</td>\n",
       "      <td>81000.000000</td>\n",
       "      <td>41667.000000</td>\n",
       "      <td>700.000000</td>\n",
       "      <td>480.000000</td>\n",
       "      <td>1.000000</td>\n",
       "      <td>2.000000</td>\n",
       "      <td>1.000000</td>\n",
       "    </tr>\n",
       "  </tbody>\n",
       "</table>\n",
       "</div>"
      ],
      "text/plain": [
       "           Gender     Married  Dependents   Education  Self_Employed  \\\n",
       "count  614.000000  614.000000  614.000000  614.000000     614.000000   \n",
       "mean     0.817590    0.653094    0.842020    0.218241       0.133550   \n",
       "std      0.386497    0.476373    1.120531    0.413389       0.340446   \n",
       "min      0.000000    0.000000    0.000000    0.000000       0.000000   \n",
       "25%      1.000000    0.000000    0.000000    0.000000       0.000000   \n",
       "50%      1.000000    1.000000    0.000000    0.000000       0.000000   \n",
       "75%      1.000000    1.000000    2.000000    0.000000       0.000000   \n",
       "max      1.000000    1.000000    4.000000    1.000000       1.000000   \n",
       "\n",
       "       ApplicantIncome  CoapplicantIncome  LoanAmount  Loan_Amount_Term  \\\n",
       "count       614.000000         614.000000  614.000000        614.000000   \n",
       "mean       5403.459283        1621.245798  146.412162        342.000000   \n",
       "std        6109.041673        2926.248369   84.037468         64.372489   \n",
       "min         150.000000           0.000000    9.000000         12.000000   \n",
       "25%        2877.500000           0.000000  100.250000        360.000000   \n",
       "50%        3812.500000        1188.500000  129.000000        360.000000   \n",
       "75%        5795.000000        2297.250000  164.750000        360.000000   \n",
       "max       81000.000000       41667.000000  700.000000        480.000000   \n",
       "\n",
       "       Credit_History  Property_Area  Loan_Status  \n",
       "count      614.000000     614.000000   614.000000  \n",
       "mean         0.842199       1.037459     0.687296  \n",
       "std          0.349681       0.787482     0.463973  \n",
       "min          0.000000       0.000000     0.000000  \n",
       "25%          1.000000       0.000000     0.000000  \n",
       "50%          1.000000       1.000000     1.000000  \n",
       "75%          1.000000       2.000000     1.000000  \n",
       "max          1.000000       2.000000     1.000000  "
      ]
     },
     "execution_count": 51,
     "metadata": {},
     "output_type": "execute_result"
    }
   ],
   "source": [
    "train.describe()\n"
   ]
  },
  {
   "cell_type": "code",
   "execution_count": 52,
   "id": "b7394254",
   "metadata": {},
   "outputs": [
    {
     "data": {
      "text/plain": [
       "<Axes: >"
      ]
     },
     "execution_count": 52,
     "metadata": {},
     "output_type": "execute_result"
    },
    {
     "data": {
      "image/png": "[encoded data removed]",
      "text/plain": [
       "<Figure size 640x480 with 1 Axes>"
      ]
     },
     "metadata": {},
     "output_type": "display_data"
    }
   ],
   "source": [
    "#Why is it important to look at the distributions\n",
    "\n",
    "train['LoanAmount'].hist(bins=10)"
   ]
  },
  {
   "cell_type": "code",
   "execution_count": 53,
   "id": "add06ee4",
   "metadata": {},
   "outputs": [
    {
     "data": {
      "text/plain": [
       "<Axes: >"
      ]
     },
     "execution_count": 53,
     "metadata": {},
     "output_type": "execute_result"
    },
    {
     "data": {
      "image/png": "[encoded data removed]",
      "text/plain": [
       "<Figure size 640x480 with 1 Axes>"
      ]
     },
     "metadata": {},
     "output_type": "display_data"
    }
   ],
   "source": [
    "train['ApplicantIncome'].hist(bins=10)"
   ]
  },
  {
   "cell_type": "code",
   "execution_count": 54,
   "id": "c02d608c",
   "metadata": {},
   "outputs": [
    {
     "data": {
      "text/plain": [
       "<Axes: >"
      ]
     },
     "execution_count": 54,
     "metadata": {},
     "output_type": "execute_result"
    },
    {
     "data": {
      "image/png": "[encoded data removed]",
      "text/plain": [
       "<Figure size 640x480 with 1 Axes>"
      ]
     },
     "metadata": {},
     "output_type": "display_data"
    }
   ],
   "source": [
    "#how similar are the train and test sets\n",
    "test['ApplicantIncome'].hist(bins=10)"
   ]
  },
  {
   "cell_type": "code",
   "execution_count": 55,
   "id": "d47af46a",
   "metadata": {},
   "outputs": [],
   "source": [
    "train = train.drop('Loan_ID',axis=1)"
   ]
  },
  {
   "cell_type": "code",
   "execution_count": 56,
   "id": "bd508989",
   "metadata": {},
   "outputs": [
    {
     "data": {
      "text/html": [
       "<div>\n",
       "<style scoped>\n",
       "    .dataframe tbody tr th:only-of-type {\n",
       "        vertical-align: middle;\n",
       "    }\n",
       "\n",
       "    .dataframe tbody tr th {\n",
       "        vertical-align: top;\n",
       "    }\n",
       "\n",
       "    .dataframe thead th {\n",
       "        text-align: right;\n",
       "    }\n",
       "</style>\n",
       "<table border=\"1\" class=\"dataframe\">\n",
       "  <thead>\n",
       "    <tr style=\"text-align: right;\">\n",
       "      <th></th>\n",
       "      <th>Gender</th>\n",
       "      <th>Married</th>\n",
       "      <th>Dependents</th>\n",
       "      <th>Education</th>\n",
       "      <th>Self_Employed</th>\n",
       "      <th>ApplicantIncome</th>\n",
       "      <th>CoapplicantIncome</th>\n",
       "      <th>LoanAmount</th>\n",
       "      <th>Loan_Amount_Term</th>\n",
       "      <th>Credit_History</th>\n",
       "      <th>Property_Area</th>\n",
       "      <th>Loan_Status</th>\n",
       "    </tr>\n",
       "  </thead>\n",
       "  <tbody>\n",
       "    <tr>\n",
       "      <th>Gender</th>\n",
       "      <td>1.000000</td>\n",
       "      <td>0.364569</td>\n",
       "      <td>0.151824</td>\n",
       "      <td>0.045364</td>\n",
       "      <td>-0.000525</td>\n",
       "      <td>0.058809</td>\n",
       "      <td>0.082912</td>\n",
       "      <td>0.107930</td>\n",
       "      <td>-0.073567</td>\n",
       "      <td>0.012819</td>\n",
       "      <td>-0.025752</td>\n",
       "      <td>0.017987</td>\n",
       "    </tr>\n",
       "    <tr>\n",
       "      <th>Married</th>\n",
       "      <td>0.364569</td>\n",
       "      <td>1.000000</td>\n",
       "      <td>0.315849</td>\n",
       "      <td>0.012304</td>\n",
       "      <td>0.004489</td>\n",
       "      <td>0.051708</td>\n",
       "      <td>0.075948</td>\n",
       "      <td>0.147141</td>\n",
       "      <td>-0.100863</td>\n",
       "      <td>0.005852</td>\n",
       "      <td>0.004257</td>\n",
       "      <td>0.091478</td>\n",
       "    </tr>\n",
       "    <tr>\n",
       "      <th>Dependents</th>\n",
       "      <td>0.151824</td>\n",
       "      <td>0.315849</td>\n",
       "      <td>1.000000</td>\n",
       "      <td>0.060466</td>\n",
       "      <td>0.051121</td>\n",
       "      <td>0.103416</td>\n",
       "      <td>0.011146</td>\n",
       "      <td>0.130722</td>\n",
       "      <td>-0.073683</td>\n",
       "      <td>-0.077539</td>\n",
       "      <td>0.032600</td>\n",
       "      <td>-0.007318</td>\n",
       "    </tr>\n",
       "    <tr>\n",
       "      <th>Education</th>\n",
       "      <td>0.045364</td>\n",
       "      <td>0.012304</td>\n",
       "      <td>0.060466</td>\n",
       "      <td>1.000000</td>\n",
       "      <td>-0.010383</td>\n",
       "      <td>-0.140760</td>\n",
       "      <td>-0.062290</td>\n",
       "      <td>-0.166998</td>\n",
       "      <td>-0.077242</td>\n",
       "      <td>-0.077936</td>\n",
       "      <td>-0.065243</td>\n",
       "      <td>-0.085884</td>\n",
       "    </tr>\n",
       "    <tr>\n",
       "      <th>Self_Employed</th>\n",
       "      <td>-0.000525</td>\n",
       "      <td>0.004489</td>\n",
       "      <td>0.051121</td>\n",
       "      <td>-0.010383</td>\n",
       "      <td>1.000000</td>\n",
       "      <td>0.127180</td>\n",
       "      <td>-0.016100</td>\n",
       "      <td>0.115260</td>\n",
       "      <td>-0.033943</td>\n",
       "      <td>-0.002260</td>\n",
       "      <td>-0.030860</td>\n",
       "      <td>-0.003700</td>\n",
       "    </tr>\n",
       "    <tr>\n",
       "      <th>ApplicantIncome</th>\n",
       "      <td>0.058809</td>\n",
       "      <td>0.051708</td>\n",
       "      <td>0.103416</td>\n",
       "      <td>-0.140760</td>\n",
       "      <td>0.127180</td>\n",
       "      <td>1.000000</td>\n",
       "      <td>-0.116605</td>\n",
       "      <td>0.565620</td>\n",
       "      <td>-0.045242</td>\n",
       "      <td>-0.014477</td>\n",
       "      <td>-0.009500</td>\n",
       "      <td>-0.004710</td>\n",
       "    </tr>\n",
       "    <tr>\n",
       "      <th>CoapplicantIncome</th>\n",
       "      <td>0.082912</td>\n",
       "      <td>0.075948</td>\n",
       "      <td>0.011146</td>\n",
       "      <td>-0.062290</td>\n",
       "      <td>-0.016100</td>\n",
       "      <td>-0.116605</td>\n",
       "      <td>1.000000</td>\n",
       "      <td>0.187828</td>\n",
       "      <td>-0.059675</td>\n",
       "      <td>-0.001665</td>\n",
       "      <td>0.010522</td>\n",
       "      <td>-0.059187</td>\n",
       "    </tr>\n",
       "    <tr>\n",
       "      <th>LoanAmount</th>\n",
       "      <td>0.107930</td>\n",
       "      <td>0.147141</td>\n",
       "      <td>0.130722</td>\n",
       "      <td>-0.166998</td>\n",
       "      <td>0.115260</td>\n",
       "      <td>0.565620</td>\n",
       "      <td>0.187828</td>\n",
       "      <td>1.000000</td>\n",
       "      <td>0.038801</td>\n",
       "      <td>-0.007738</td>\n",
       "      <td>-0.044776</td>\n",
       "      <td>-0.036416</td>\n",
       "    </tr>\n",
       "    <tr>\n",
       "      <th>Loan_Amount_Term</th>\n",
       "      <td>-0.073567</td>\n",
       "      <td>-0.100863</td>\n",
       "      <td>-0.073683</td>\n",
       "      <td>-0.077242</td>\n",
       "      <td>-0.033943</td>\n",
       "      <td>-0.045242</td>\n",
       "      <td>-0.059675</td>\n",
       "      <td>0.038801</td>\n",
       "      <td>1.000000</td>\n",
       "      <td>0.001395</td>\n",
       "      <td>-0.077620</td>\n",
       "      <td>-0.020974</td>\n",
       "    </tr>\n",
       "    <tr>\n",
       "      <th>Credit_History</th>\n",
       "      <td>0.012819</td>\n",
       "      <td>0.005852</td>\n",
       "      <td>-0.077539</td>\n",
       "      <td>-0.077936</td>\n",
       "      <td>-0.002260</td>\n",
       "      <td>-0.014477</td>\n",
       "      <td>-0.001665</td>\n",
       "      <td>-0.007738</td>\n",
       "      <td>0.001395</td>\n",
       "      <td>1.000000</td>\n",
       "      <td>-0.001880</td>\n",
       "      <td>0.540483</td>\n",
       "    </tr>\n",
       "    <tr>\n",
       "      <th>Property_Area</th>\n",
       "      <td>-0.025752</td>\n",
       "      <td>0.004257</td>\n",
       "      <td>0.032600</td>\n",
       "      <td>-0.065243</td>\n",
       "      <td>-0.030860</td>\n",
       "      <td>-0.009500</td>\n",
       "      <td>0.010522</td>\n",
       "      <td>-0.044776</td>\n",
       "      <td>-0.077620</td>\n",
       "      <td>-0.001880</td>\n",
       "      <td>1.000000</td>\n",
       "      <td>0.032112</td>\n",
       "    </tr>\n",
       "    <tr>\n",
       "      <th>Loan_Status</th>\n",
       "      <td>0.017987</td>\n",
       "      <td>0.091478</td>\n",
       "      <td>-0.007318</td>\n",
       "      <td>-0.085884</td>\n",
       "      <td>-0.003700</td>\n",
       "      <td>-0.004710</td>\n",
       "      <td>-0.059187</td>\n",
       "      <td>-0.036416</td>\n",
       "      <td>-0.020974</td>\n",
       "      <td>0.540483</td>\n",
       "      <td>0.032112</td>\n",
       "      <td>1.000000</td>\n",
       "    </tr>\n",
       "  </tbody>\n",
       "</table>\n",
       "</div>"
      ],
      "text/plain": [
       "                     Gender   Married  Dependents  Education  Self_Employed  \\\n",
       "Gender             1.000000  0.364569    0.151824   0.045364      -0.000525   \n",
       "Married            0.364569  1.000000    0.315849   0.012304       0.004489   \n",
       "Dependents         0.151824  0.315849    1.000000   0.060466       0.051121   \n",
       "Education          0.045364  0.012304    0.060466   1.000000      -0.010383   \n",
       "Self_Employed     -0.000525  0.004489    0.051121  -0.010383       1.000000   \n",
       "ApplicantIncome    0.058809  0.051708    0.103416  -0.140760       0.127180   \n",
       "CoapplicantIncome  0.082912  0.075948    0.011146  -0.062290      -0.016100   \n",
       "LoanAmount         0.107930  0.147141    0.130722  -0.166998       0.115260   \n",
       "Loan_Amount_Term  -0.073567 -0.100863   -0.073683  -0.077242      -0.033943   \n",
       "Credit_History     0.012819  0.005852   -0.077539  -0.077936      -0.002260   \n",
       "Property_Area     -0.025752  0.004257    0.032600  -0.065243      -0.030860   \n",
       "Loan_Status        0.017987  0.091478   -0.007318  -0.085884      -0.003700   \n",
       "\n",
       "                   ApplicantIncome  CoapplicantIncome  LoanAmount  \\\n",
       "Gender                    0.058809           0.082912    0.107930   \n",
       "Married                   0.051708           0.075948    0.147141   \n",
       "Dependents                0.103416           0.011146    0.130722   \n",
       "Education                -0.140760          -0.062290   -0.166998   \n",
       "Self_Employed             0.127180          -0.016100    0.115260   \n",
       "ApplicantIncome           1.000000          -0.116605    0.565620   \n",
       "CoapplicantIncome        -0.116605           1.000000    0.187828   \n",
       "LoanAmount                0.565620           0.187828    1.000000   \n",
       "Loan_Amount_Term         -0.045242          -0.059675    0.038801   \n",
       "Credit_History           -0.014477          -0.001665   -0.007738   \n",
       "Property_Area            -0.009500           0.010522   -0.044776   \n",
       "Loan_Status              -0.004710          -0.059187   -0.036416   \n",
       "\n",
       "                   Loan_Amount_Term  Credit_History  Property_Area  \\\n",
       "Gender                    -0.073567        0.012819      -0.025752   \n",
       "Married                   -0.100863        0.005852       0.004257   \n",
       "Dependents                -0.073683       -0.077539       0.032600   \n",
       "Education                 -0.077242       -0.077936      -0.065243   \n",
       "Self_Employed             -0.033943       -0.002260      -0.030860   \n",
       "ApplicantIncome           -0.045242       -0.014477      -0.009500   \n",
       "CoapplicantIncome         -0.059675       -0.001665       0.010522   \n",
       "LoanAmount                 0.038801       -0.007738      -0.044776   \n",
       "Loan_Amount_Term           1.000000        0.001395      -0.077620   \n",
       "Credit_History             0.001395        1.000000      -0.001880   \n",
       "Property_Area             -0.077620       -0.001880       1.000000   \n",
       "Loan_Status               -0.020974        0.540483       0.032112   \n",
       "\n",
       "                   Loan_Status  \n",
       "Gender                0.017987  \n",
       "Married               0.091478  \n",
       "Dependents           -0.007318  \n",
       "Education            -0.085884  \n",
       "Self_Employed        -0.003700  \n",
       "ApplicantIncome      -0.004710  \n",
       "CoapplicantIncome    -0.059187  \n",
       "LoanAmount           -0.036416  \n",
       "Loan_Amount_Term     -0.020974  \n",
       "Credit_History        0.540483  \n",
       "Property_Area         0.032112  \n",
       "Loan_Status           1.000000  "
      ]
     },
     "execution_count": 56,
     "metadata": {},
     "output_type": "execute_result"
    }
   ],
   "source": [
    "#how are the variables correlated\n",
    "\n",
    "train.corr()"
   ]
  },
  {
   "cell_type": "code",
   "execution_count": 57,
   "id": "3bee3e1e",
   "metadata": {},
   "outputs": [],
   "source": [
    "import seaborn as sns\n",
    "sns.set_style('dark')\n",
    "import matplotlib.pyplot as plt\n",
    "%matplotlib inline\n"
   ]
  },
  {
   "cell_type": "code",
   "execution_count": 58,
   "id": "66d2159b",
   "metadata": {},
   "outputs": [
    {
     "data": {
      "image/png": "[encoded data removed]",
      "text/plain": [
       "<Figure size 1200x800 with 2 Axes>"
      ]
     },
     "metadata": {},
     "output_type": "display_data"
    }
   ],
   "source": [
    "plt.figure(figsize=(12,8))\n",
    "sns.heatmap(train.corr(), cmap='coolwarm', annot=True, fmt='.1f', linewidths=.1)\n",
    "plt.show()"
   ]
  },
  {
   "cell_type": "markdown",
   "id": "a91a021d",
   "metadata": {},
   "source": [
    "From the heatmap we can see that credit history has the greatest impact on whether or not a loan will be approved."
   ]
  },
  {
   "cell_type": "code",
   "execution_count": 60,
   "id": "00e0ef2b",
   "metadata": {
    "scrolled": true
   },
   "outputs": [
    {
     "data": {
      "text/plain": [
       "<Axes: >"
      ]
     },
     "execution_count": 60,
     "metadata": {},
     "output_type": "execute_result"
    },
    {
     "data": {
      "image/png": "[encoded data removed]",
      "text/plain": [
       "<Figure size 640x480 with 2 Axes>"
      ]
     },
     "metadata": {},
     "output_type": "display_data"
    }
   ],
   "source": [
    "temp = train.corr()\n",
    "\n",
    "temp = temp[['Loan_Status']]\n",
    "sns.heatmap(temp)"
   ]
  },
  {
   "cell_type": "code",
   "execution_count": 64,
   "id": "ac7e433b",
   "metadata": {},
   "outputs": [],
   "source": [
    "temp = train.groupby(['Gender','Married','Dependents','Education','Property_Area'])['Loan_Status'].count()"
   ]
  },
  {
   "cell_type": "code",
   "execution_count": 65,
   "id": "d1cf1e46",
   "metadata": {},
   "outputs": [
    {
     "data": {
      "text/plain": [
       "Gender  Married  Dependents  Education  Property_Area\n",
       "0.0     0.0      0           0          0                13\n",
       "                                        1                21\n",
       "                                        2                16\n",
       "                             1          0                 3\n",
       "                                        1                 4\n",
       "                                                         ..\n",
       "1.0     1.0      4           0          1                 2\n",
       "                                        2                 3\n",
       "                             1          0                 1\n",
       "                                        1                 2\n",
       "                                        2                 1\n",
       "Name: Loan_Status, Length: 76, dtype: int64"
      ]
     },
     "execution_count": 65,
     "metadata": {},
     "output_type": "execute_result"
    }
   ],
   "source": [
    "temp #how to show full table? is this valuable"
   ]
  },
  {
   "cell_type": "code",
   "execution_count": 74,
   "id": "53e34c6f",
   "metadata": {},
   "outputs": [
    {
     "data": {
      "text/plain": [
       "Loan_Status  Gender\n",
       "0            0.0        37\n",
       "             1.0       155\n",
       "1            0.0        75\n",
       "             1.0       347\n",
       "Name: Loan_Status, dtype: int64"
      ]
     },
     "execution_count": 74,
     "metadata": {},
     "output_type": "execute_result"
    }
   ],
   "source": [
    "temp = train.groupby(['Loan_Status','Gender'])['Loan_Status'].count()\n",
    "temp"
   ]
  },
  {
   "cell_type": "code",
   "execution_count": 81,
   "id": "9ef3496a",
   "metadata": {},
   "outputs": [
    {
     "name": "stdout",
     "output_type": "stream",
     "text": [
      "Males denied 0.25 % of the times, Females denied 0.06 % of the time\n",
      "Males accepted 0.57 % of the times, Females accepted 0.12 % of the time\n"
     ]
    }
   ],
   "source": [
    "#Denied Loans #is this dumb?\n",
    "md = 155/(155+37+75+347)\n",
    "fd = 37/(155+37+75+347)\n",
    "ml = 347/(155+37+75+347)\n",
    "fl = 75/(155+37+75+347)\n",
    "print(f'Males denied {round(md,2)} % of the times, Females denied {round(fd,2)} % of the time')\n",
    "print(f'Males accepted {round(ml,2)} % of the times, Females accepted {round(fl,2)} % of the time')"
   ]
  },
  {
   "cell_type": "code",
   "execution_count": 75,
   "id": "2501df87",
   "metadata": {},
   "outputs": [
    {
     "data": {
      "text/plain": [
       "Loan_Status  Married\n",
       "0            0.0         79\n",
       "             1.0        113\n",
       "1            0.0        134\n",
       "             1.0        288\n",
       "Name: Loan_Status, dtype: int64"
      ]
     },
     "execution_count": 75,
     "metadata": {},
     "output_type": "execute_result"
    }
   ],
   "source": [
    "temp = train.groupby(['Loan_Status','Married'])['Loan_Status'].count()\n",
    "temp"
   ]
  },
  {
   "cell_type": "code",
   "execution_count": null,
   "id": "f2c8bbe8",
   "metadata": {},
   "outputs": [],
   "source": []
  },
  {
   "cell_type": "code",
   "execution_count": 76,
   "id": "7ccae6a3",
   "metadata": {},
   "outputs": [
    {
     "data": {
      "text/plain": [
       "Loan_Status  Dependents\n",
       "0            0             107\n",
       "             1              36\n",
       "             2              25\n",
       "             3              18\n",
       "             4               6\n",
       "1            0             238\n",
       "             1              66\n",
       "             2              76\n",
       "             3              33\n",
       "             4               9\n",
       "Name: Loan_Status, dtype: int64"
      ]
     },
     "execution_count": 76,
     "metadata": {},
     "output_type": "execute_result"
    }
   ],
   "source": [
    "temp = train.groupby(['Loan_Status','Dependents'])['Loan_Status'].count()\n",
    "temp"
   ]
  },
  {
   "cell_type": "code",
   "execution_count": 77,
   "id": "61b0c1d6",
   "metadata": {},
   "outputs": [
    {
     "data": {
      "text/plain": [
       "Loan_Status  Education\n",
       "0            0            140\n",
       "             1             52\n",
       "1            0            340\n",
       "             1             82\n",
       "Name: Loan_Status, dtype: int64"
      ]
     },
     "execution_count": 77,
     "metadata": {},
     "output_type": "execute_result"
    }
   ],
   "source": [
    "temp = train.groupby(['Loan_Status','Education'])['Loan_Status'].count()\n",
    "temp"
   ]
  },
  {
   "cell_type": "code",
   "execution_count": null,
   "id": "ade35fcd",
   "metadata": {},
   "outputs": [],
   "source": []
  }
 ],
 "metadata": {
  "kernelspec": {
   "display_name": "Python 3 (ipykernel)",
   "language": "python",
   "name": "python3"
  },
  "language_info": {
   "codemirror_mode": {
    "name": "ipython",
    "version": 3
   },
   "file_extension": ".py",
   "mimetype": "text/x-python",
   "name": "python",
   "nbconvert_exporter": "python",
   "pygments_lexer": "ipython3",
   "version": "3.11.0"
  }
 },
 "nbformat": 4,
 "nbformat_minor": 5
}
